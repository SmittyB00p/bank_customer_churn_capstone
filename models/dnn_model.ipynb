{
 "cells": [
  {
   "attachments": {},
   "cell_type": "markdown",
   "metadata": {},
   "source": [
    "# Keras model experamentation\n",
    "- with the other models performing very well we will not need to use a neural network such as Keras, but for experamental purposes here it is"
   ]
  },
  {
   "cell_type": "code",
   "execution_count": 1368,
   "metadata": {},
   "outputs": [],
   "source": [
    "import pandas as pd\n",
    "import matplotlib.pyplot as plt\n",
    "import seaborn as sns"
   ]
  },
  {
   "cell_type": "code",
   "execution_count": 1369,
   "metadata": {},
   "outputs": [
    {
     "data": {
      "text/html": [
       "<div>\n",
       "<style scoped>\n",
       "    .dataframe tbody tr th:only-of-type {\n",
       "        vertical-align: middle;\n",
       "    }\n",
       "\n",
       "    .dataframe tbody tr th {\n",
       "        vertical-align: top;\n",
       "    }\n",
       "\n",
       "    .dataframe thead th {\n",
       "        text-align: right;\n",
       "    }\n",
       "</style>\n",
       "<table border=\"1\" class=\"dataframe\">\n",
       "  <thead>\n",
       "    <tr style=\"text-align: right;\">\n",
       "      <th></th>\n",
       "      <th>CreditScore</th>\n",
       "      <th>Age</th>\n",
       "      <th>Tenure</th>\n",
       "      <th>Balance</th>\n",
       "      <th>NumOfProducts</th>\n",
       "      <th>HasCrCard</th>\n",
       "      <th>IsActiveMember</th>\n",
       "      <th>EstimatedSalary</th>\n",
       "      <th>Exited</th>\n",
       "      <th>Complain</th>\n",
       "      <th>...</th>\n",
       "      <th>Point Earned</th>\n",
       "      <th>Geography_France</th>\n",
       "      <th>Geography_Germany</th>\n",
       "      <th>Geography_Spain</th>\n",
       "      <th>Gender_Female</th>\n",
       "      <th>Gender_Male</th>\n",
       "      <th>Card Type_DIAMOND</th>\n",
       "      <th>Card Type_GOLD</th>\n",
       "      <th>Card Type_PLATINUM</th>\n",
       "      <th>Card Type_SILVER</th>\n",
       "    </tr>\n",
       "  </thead>\n",
       "  <tbody>\n",
       "    <tr>\n",
       "      <th>0</th>\n",
       "      <td>619</td>\n",
       "      <td>42</td>\n",
       "      <td>2</td>\n",
       "      <td>0.00</td>\n",
       "      <td>1</td>\n",
       "      <td>1</td>\n",
       "      <td>1</td>\n",
       "      <td>101348.88</td>\n",
       "      <td>1</td>\n",
       "      <td>1</td>\n",
       "      <td>...</td>\n",
       "      <td>464</td>\n",
       "      <td>1</td>\n",
       "      <td>0</td>\n",
       "      <td>0</td>\n",
       "      <td>1</td>\n",
       "      <td>0</td>\n",
       "      <td>1</td>\n",
       "      <td>0</td>\n",
       "      <td>0</td>\n",
       "      <td>0</td>\n",
       "    </tr>\n",
       "    <tr>\n",
       "      <th>1</th>\n",
       "      <td>608</td>\n",
       "      <td>41</td>\n",
       "      <td>1</td>\n",
       "      <td>83807.86</td>\n",
       "      <td>1</td>\n",
       "      <td>0</td>\n",
       "      <td>1</td>\n",
       "      <td>112542.58</td>\n",
       "      <td>0</td>\n",
       "      <td>1</td>\n",
       "      <td>...</td>\n",
       "      <td>456</td>\n",
       "      <td>0</td>\n",
       "      <td>0</td>\n",
       "      <td>1</td>\n",
       "      <td>1</td>\n",
       "      <td>0</td>\n",
       "      <td>1</td>\n",
       "      <td>0</td>\n",
       "      <td>0</td>\n",
       "      <td>0</td>\n",
       "    </tr>\n",
       "    <tr>\n",
       "      <th>2</th>\n",
       "      <td>502</td>\n",
       "      <td>42</td>\n",
       "      <td>8</td>\n",
       "      <td>159660.80</td>\n",
       "      <td>3</td>\n",
       "      <td>1</td>\n",
       "      <td>0</td>\n",
       "      <td>113931.57</td>\n",
       "      <td>1</td>\n",
       "      <td>1</td>\n",
       "      <td>...</td>\n",
       "      <td>377</td>\n",
       "      <td>1</td>\n",
       "      <td>0</td>\n",
       "      <td>0</td>\n",
       "      <td>1</td>\n",
       "      <td>0</td>\n",
       "      <td>1</td>\n",
       "      <td>0</td>\n",
       "      <td>0</td>\n",
       "      <td>0</td>\n",
       "    </tr>\n",
       "    <tr>\n",
       "      <th>3</th>\n",
       "      <td>699</td>\n",
       "      <td>39</td>\n",
       "      <td>1</td>\n",
       "      <td>0.00</td>\n",
       "      <td>2</td>\n",
       "      <td>0</td>\n",
       "      <td>0</td>\n",
       "      <td>93826.63</td>\n",
       "      <td>0</td>\n",
       "      <td>0</td>\n",
       "      <td>...</td>\n",
       "      <td>350</td>\n",
       "      <td>1</td>\n",
       "      <td>0</td>\n",
       "      <td>0</td>\n",
       "      <td>1</td>\n",
       "      <td>0</td>\n",
       "      <td>0</td>\n",
       "      <td>1</td>\n",
       "      <td>0</td>\n",
       "      <td>0</td>\n",
       "    </tr>\n",
       "    <tr>\n",
       "      <th>4</th>\n",
       "      <td>850</td>\n",
       "      <td>43</td>\n",
       "      <td>2</td>\n",
       "      <td>125510.82</td>\n",
       "      <td>1</td>\n",
       "      <td>1</td>\n",
       "      <td>1</td>\n",
       "      <td>79084.10</td>\n",
       "      <td>0</td>\n",
       "      <td>0</td>\n",
       "      <td>...</td>\n",
       "      <td>425</td>\n",
       "      <td>0</td>\n",
       "      <td>0</td>\n",
       "      <td>1</td>\n",
       "      <td>1</td>\n",
       "      <td>0</td>\n",
       "      <td>0</td>\n",
       "      <td>1</td>\n",
       "      <td>0</td>\n",
       "      <td>0</td>\n",
       "    </tr>\n",
       "  </tbody>\n",
       "</table>\n",
       "<p>5 rows × 21 columns</p>\n",
       "</div>"
      ],
      "text/plain": [
       "   CreditScore  Age  Tenure    Balance  NumOfProducts  HasCrCard  \\\n",
       "0          619   42       2       0.00              1          1   \n",
       "1          608   41       1   83807.86              1          0   \n",
       "2          502   42       8  159660.80              3          1   \n",
       "3          699   39       1       0.00              2          0   \n",
       "4          850   43       2  125510.82              1          1   \n",
       "\n",
       "   IsActiveMember  EstimatedSalary  Exited  Complain  ...  Point Earned  \\\n",
       "0               1        101348.88       1         1  ...           464   \n",
       "1               1        112542.58       0         1  ...           456   \n",
       "2               0        113931.57       1         1  ...           377   \n",
       "3               0         93826.63       0         0  ...           350   \n",
       "4               1         79084.10       0         0  ...           425   \n",
       "\n",
       "   Geography_France  Geography_Germany  Geography_Spain  Gender_Female  \\\n",
       "0                 1                  0                0              1   \n",
       "1                 0                  0                1              1   \n",
       "2                 1                  0                0              1   \n",
       "3                 1                  0                0              1   \n",
       "4                 0                  0                1              1   \n",
       "\n",
       "   Gender_Male  Card Type_DIAMOND  Card Type_GOLD  Card Type_PLATINUM  \\\n",
       "0            0                  1               0                   0   \n",
       "1            0                  1               0                   0   \n",
       "2            0                  1               0                   0   \n",
       "3            0                  0               1                   0   \n",
       "4            0                  0               1                   0   \n",
       "\n",
       "   Card Type_SILVER  \n",
       "0                 0  \n",
       "1                 0  \n",
       "2                 0  \n",
       "3                 0  \n",
       "4                 0  \n",
       "\n",
       "[5 rows x 21 columns]"
      ]
     },
     "execution_count": 1369,
     "metadata": {},
     "output_type": "execute_result"
    }
   ],
   "source": [
    "df = pd.read_csv('../data/finalized_customer_churn_records.csv')\n",
    "df.head()"
   ]
  },
  {
   "cell_type": "code",
   "execution_count": 1370,
   "metadata": {},
   "outputs": [
    {
     "data": {
      "text/plain": [
       "Index(['CreditScore', 'Age', 'Tenure', 'Balance', 'NumOfProducts', 'HasCrCard',\n",
       "       'IsActiveMember', 'EstimatedSalary', 'Complain', 'Satisfaction Score',\n",
       "       'Point Earned', 'Geography_France', 'Geography_Germany',\n",
       "       'Geography_Spain', 'Gender_Female', 'Gender_Male', 'Card Type_DIAMOND',\n",
       "       'Card Type_GOLD', 'Card Type_PLATINUM', 'Card Type_SILVER'],\n",
       "      dtype='object')"
      ]
     },
     "execution_count": 1370,
     "metadata": {},
     "output_type": "execute_result"
    }
   ],
   "source": [
    "target_variable = df['Exited'].values\n",
    "df.drop(columns=['Exited'], axis=1, inplace=True)\n",
    "df.columns"
   ]
  },
  {
   "cell_type": "code",
   "execution_count": 1371,
   "metadata": {},
   "outputs": [
    {
     "name": "stdout",
     "output_type": "stream",
     "text": [
      "<class 'pandas.core.frame.DataFrame'>\n",
      "RangeIndex: 10000 entries, 0 to 9999\n",
      "Data columns (total 20 columns):\n",
      " #   Column              Non-Null Count  Dtype  \n",
      "---  ------              --------------  -----  \n",
      " 0   CreditScore         10000 non-null  int64  \n",
      " 1   Age                 10000 non-null  int64  \n",
      " 2   Tenure              10000 non-null  int64  \n",
      " 3   Balance             10000 non-null  float64\n",
      " 4   NumOfProducts       10000 non-null  int64  \n",
      " 5   HasCrCard           10000 non-null  int64  \n",
      " 6   IsActiveMember      10000 non-null  int64  \n",
      " 7   EstimatedSalary     10000 non-null  float64\n",
      " 8   Complain            10000 non-null  int64  \n",
      " 9   Satisfaction Score  10000 non-null  int64  \n",
      " 10  Point Earned        10000 non-null  int64  \n",
      " 11  Geography_France    10000 non-null  int64  \n",
      " 12  Geography_Germany   10000 non-null  int64  \n",
      " 13  Geography_Spain     10000 non-null  int64  \n",
      " 14  Gender_Female       10000 non-null  int64  \n",
      " 15  Gender_Male         10000 non-null  int64  \n",
      " 16  Card Type_DIAMOND   10000 non-null  int64  \n",
      " 17  Card Type_GOLD      10000 non-null  int64  \n",
      " 18  Card Type_PLATINUM  10000 non-null  int64  \n",
      " 19  Card Type_SILVER    10000 non-null  int64  \n",
      "dtypes: float64(2), int64(18)\n",
      "memory usage: 1.5 MB\n"
     ]
    }
   ],
   "source": [
    "df.info()"
   ]
  },
  {
   "attachments": {},
   "cell_type": "markdown",
   "metadata": {},
   "source": [
    "## Split dataset into training and testing sets"
   ]
  },
  {
   "cell_type": "code",
   "execution_count": 1372,
   "metadata": {},
   "outputs": [
    {
     "name": "stdout",
     "output_type": "stream",
     "text": [
      "X_train shape: (11146, 20)\n",
      "y_train shape: (11146,)\n",
      "X_test shape: (4778, 20)\n",
      "y_test shape: (4778,)\n"
     ]
    }
   ],
   "source": [
    "from sklearn.preprocessing import MinMaxScaler\n",
    "from sklearn.metrics import confusion_matrix, classification_report\n",
    "from sklearn.model_selection import train_test_split\n",
    "from imblearn.over_sampling import RandomOverSampler\n",
    "\n",
    "# scaler = MinMaxScaler()\n",
    "\n",
    "RANDOM_STATE = 3\n",
    "\n",
    "over_sampler = RandomOverSampler(sampling_strategy='minority')\n",
    "df, target_variable = over_sampler.fit_resample(df, target_variable)\n",
    "\n",
    "X_train, X_test, y_train, y_test = train_test_split(df, target_variable, random_state=RANDOM_STATE, test_size=0.30, stratify=target_variable)\n",
    "\n",
    "print(f'X_train shape: {X_train.shape}\\ny_train shape: {y_train.shape}\\nX_test shape: {X_test.shape}\\ny_test shape: {y_test.shape}')\n",
    "\n",
    "# X_train_scaled = scaler.fit_transform(X_train)\n",
    "# X_test_scaled = scaler.transform(X_test)\n"
   ]
  },
  {
   "attachments": {},
   "cell_type": "markdown",
   "metadata": {},
   "source": [
    "## Basic DNN\n",
    "- We will make the initial DNN by having an input layer with an input shape of the number of features we have in the dataset (20)\n",
    "- The hidden layers will be a default shape of 32 and 64, respectively, with a 'relu' activation function\n",
    "- The output layer will be a single output for either the customer exited the bank or they did not"
   ]
  },
  {
   "cell_type": "code",
   "execution_count": 1373,
   "metadata": {},
   "outputs": [
    {
     "name": "stdout",
     "output_type": "stream",
     "text": [
      "20\n"
     ]
    },
    {
     "name": "stderr",
     "output_type": "stream",
     "text": [
      "/Library/Frameworks/Python.framework/Versions/3.11/lib/python3.11/site-packages/keras/src/layers/core/dense.py:87: UserWarning: Do not pass an `input_shape`/`input_dim` argument to a layer. When using Sequential models, prefer using an `Input(shape)` object as the first layer in the model instead.\n",
      "  super().__init__(activity_regularizer=activity_regularizer, **kwargs)\n"
     ]
    }
   ],
   "source": [
    "\n",
    "import keras\n",
    "from keras.optimizers import Adam\n",
    "\n",
    "df_num_cols = len(df.columns)\n",
    "\n",
    "print(df_num_cols)\n",
    "\n",
    "model = keras.Sequential()\n",
    "# model.add(keras.Input(shape=(df_num_cols,)))\n",
    "model.add(keras.layers.Dense(32, input_shape=(df_num_cols,), activation='relu'))\n",
    "model.add(keras.layers.Dense(64, activation='relu'))\n",
    "model.add(keras.layers.Dense(1, activation='sigmoid'))"
   ]
  },
  {
   "cell_type": "code",
   "execution_count": 1374,
   "metadata": {},
   "outputs": [
    {
     "data": {
      "text/html": [
       "<pre style=\"white-space:pre;overflow-x:auto;line-height:normal;font-family:Menlo,'DejaVu Sans Mono',consolas,'Courier New',monospace\"><span style=\"font-weight: bold\">Model: \"sequential_251\"</span>\n",
       "</pre>\n"
      ],
      "text/plain": [
       "\u001b[1mModel: \"sequential_251\"\u001b[0m\n"
      ]
     },
     "metadata": {},
     "output_type": "display_data"
    },
    {
     "data": {
      "text/html": [
       "<pre style=\"white-space:pre;overflow-x:auto;line-height:normal;font-family:Menlo,'DejaVu Sans Mono',consolas,'Courier New',monospace\">┏━━━━━━━━━━━━━━━━━━━━━━━━━━━━━━━━━┳━━━━━━━━━━━━━━━━━━━━━━━━┳━━━━━━━━━━━━━━━┓\n",
       "┃<span style=\"font-weight: bold\"> Layer (type)                    </span>┃<span style=\"font-weight: bold\"> Output Shape           </span>┃<span style=\"font-weight: bold\">       Param # </span>┃\n",
       "┡━━━━━━━━━━━━━━━━━━━━━━━━━━━━━━━━━╇━━━━━━━━━━━━━━━━━━━━━━━━╇━━━━━━━━━━━━━━━┩\n",
       "│ dense_484 (<span style=\"color: #0087ff; text-decoration-color: #0087ff\">Dense</span>)               │ (<span style=\"color: #00d7ff; text-decoration-color: #00d7ff\">None</span>, <span style=\"color: #00af00; text-decoration-color: #00af00\">32</span>)             │           <span style=\"color: #00af00; text-decoration-color: #00af00\">672</span> │\n",
       "├─────────────────────────────────┼────────────────────────┼───────────────┤\n",
       "│ dense_485 (<span style=\"color: #0087ff; text-decoration-color: #0087ff\">Dense</span>)               │ (<span style=\"color: #00d7ff; text-decoration-color: #00d7ff\">None</span>, <span style=\"color: #00af00; text-decoration-color: #00af00\">64</span>)             │         <span style=\"color: #00af00; text-decoration-color: #00af00\">2,112</span> │\n",
       "├─────────────────────────────────┼────────────────────────┼───────────────┤\n",
       "│ dense_486 (<span style=\"color: #0087ff; text-decoration-color: #0087ff\">Dense</span>)               │ (<span style=\"color: #00d7ff; text-decoration-color: #00d7ff\">None</span>, <span style=\"color: #00af00; text-decoration-color: #00af00\">1</span>)              │            <span style=\"color: #00af00; text-decoration-color: #00af00\">65</span> │\n",
       "└─────────────────────────────────┴────────────────────────┴───────────────┘\n",
       "</pre>\n"
      ],
      "text/plain": [
       "┏━━━━━━━━━━━━━━━━━━━━━━━━━━━━━━━━━┳━━━━━━━━━━━━━━━━━━━━━━━━┳━━━━━━━━━━━━━━━┓\n",
       "┃\u001b[1m \u001b[0m\u001b[1mLayer (type)                   \u001b[0m\u001b[1m \u001b[0m┃\u001b[1m \u001b[0m\u001b[1mOutput Shape          \u001b[0m\u001b[1m \u001b[0m┃\u001b[1m \u001b[0m\u001b[1m      Param #\u001b[0m\u001b[1m \u001b[0m┃\n",
       "┡━━━━━━━━━━━━━━━━━━━━━━━━━━━━━━━━━╇━━━━━━━━━━━━━━━━━━━━━━━━╇━━━━━━━━━━━━━━━┩\n",
       "│ dense_484 (\u001b[38;5;33mDense\u001b[0m)               │ (\u001b[38;5;45mNone\u001b[0m, \u001b[38;5;34m32\u001b[0m)             │           \u001b[38;5;34m672\u001b[0m │\n",
       "├─────────────────────────────────┼────────────────────────┼───────────────┤\n",
       "│ dense_485 (\u001b[38;5;33mDense\u001b[0m)               │ (\u001b[38;5;45mNone\u001b[0m, \u001b[38;5;34m64\u001b[0m)             │         \u001b[38;5;34m2,112\u001b[0m │\n",
       "├─────────────────────────────────┼────────────────────────┼───────────────┤\n",
       "│ dense_486 (\u001b[38;5;33mDense\u001b[0m)               │ (\u001b[38;5;45mNone\u001b[0m, \u001b[38;5;34m1\u001b[0m)              │            \u001b[38;5;34m65\u001b[0m │\n",
       "└─────────────────────────────────┴────────────────────────┴───────────────┘\n"
      ]
     },
     "metadata": {},
     "output_type": "display_data"
    },
    {
     "data": {
      "text/html": [
       "<pre style=\"white-space:pre;overflow-x:auto;line-height:normal;font-family:Menlo,'DejaVu Sans Mono',consolas,'Courier New',monospace\"><span style=\"font-weight: bold\"> Total params: </span><span style=\"color: #00af00; text-decoration-color: #00af00\">2,849</span> (11.13 KB)\n",
       "</pre>\n"
      ],
      "text/plain": [
       "\u001b[1m Total params: \u001b[0m\u001b[38;5;34m2,849\u001b[0m (11.13 KB)\n"
      ]
     },
     "metadata": {},
     "output_type": "display_data"
    },
    {
     "data": {
      "text/html": [
       "<pre style=\"white-space:pre;overflow-x:auto;line-height:normal;font-family:Menlo,'DejaVu Sans Mono',consolas,'Courier New',monospace\"><span style=\"font-weight: bold\"> Trainable params: </span><span style=\"color: #00af00; text-decoration-color: #00af00\">2,849</span> (11.13 KB)\n",
       "</pre>\n"
      ],
      "text/plain": [
       "\u001b[1m Trainable params: \u001b[0m\u001b[38;5;34m2,849\u001b[0m (11.13 KB)\n"
      ]
     },
     "metadata": {},
     "output_type": "display_data"
    },
    {
     "data": {
      "text/html": [
       "<pre style=\"white-space:pre;overflow-x:auto;line-height:normal;font-family:Menlo,'DejaVu Sans Mono',consolas,'Courier New',monospace\"><span style=\"font-weight: bold\"> Non-trainable params: </span><span style=\"color: #00af00; text-decoration-color: #00af00\">0</span> (0.00 B)\n",
       "</pre>\n"
      ],
      "text/plain": [
       "\u001b[1m Non-trainable params: \u001b[0m\u001b[38;5;34m0\u001b[0m (0.00 B)\n"
      ]
     },
     "metadata": {},
     "output_type": "display_data"
    }
   ],
   "source": [
    "model.summary()\n"
   ]
  },
  {
   "cell_type": "code",
   "execution_count": 1375,
   "metadata": {},
   "outputs": [],
   "source": [
    "model.compile(optimizer=Adam(learning_rate=.01), loss='binary_crossentropy', metrics=['accuracy'])"
   ]
  },
  {
   "cell_type": "code",
   "execution_count": 1376,
   "metadata": {},
   "outputs": [
    {
     "name": "stdout",
     "output_type": "stream",
     "text": [
      "Epoch 1/150\n"
     ]
    },
    {
     "name": "stdout",
     "output_type": "stream",
     "text": [
      "88/88 - 3s - 30ms/step - accuracy: 0.5108 - loss: 997.4155 - val_accuracy: 0.5377 - val_loss: 94.7199\n",
      "Epoch 2/150\n",
      "88/88 - 0s - 1ms/step - accuracy: 0.5110 - loss: 130.1564 - val_accuracy: 0.5686 - val_loss: 124.8063\n",
      "Epoch 3/150\n",
      "88/88 - 0s - 1ms/step - accuracy: 0.5193 - loss: 94.5623 - val_accuracy: 0.5103 - val_loss: 25.7365\n",
      "Epoch 4/150\n",
      "88/88 - 0s - 1ms/step - accuracy: 0.5048 - loss: 83.0260 - val_accuracy: 0.4985 - val_loss: 75.6230\n",
      "Epoch 5/150\n",
      "88/88 - 0s - 1ms/step - accuracy: 0.5092 - loss: 37.9497 - val_accuracy: 0.4954 - val_loss: 9.0868\n",
      "Epoch 6/150\n",
      "88/88 - 0s - 1ms/step - accuracy: 0.5210 - loss: 26.9403 - val_accuracy: 0.4998 - val_loss: 46.8460\n",
      "Epoch 7/150\n",
      "88/88 - 0s - 1ms/step - accuracy: 0.5151 - loss: 35.6756 - val_accuracy: 0.5109 - val_loss: 56.5703\n",
      "Epoch 8/150\n",
      "88/88 - 0s - 1ms/step - accuracy: 0.5205 - loss: 19.0509 - val_accuracy: 0.4975 - val_loss: 25.6964\n",
      "Epoch 9/150\n",
      "88/88 - 0s - 1ms/step - accuracy: 0.5176 - loss: 10.4808 - val_accuracy: 0.4797 - val_loss: 3.5529\n",
      "Epoch 10/150\n",
      "88/88 - 0s - 1ms/step - accuracy: 0.5149 - loss: 5.4473 - val_accuracy: 0.5272 - val_loss: 6.5829\n",
      "Epoch 11/150\n",
      "88/88 - 0s - 1ms/step - accuracy: 0.5146 - loss: 6.2186 - val_accuracy: 0.5682 - val_loss: 6.1623\n",
      "Epoch 12/150\n",
      "88/88 - 0s - 1ms/step - accuracy: 0.5110 - loss: 6.9767 - val_accuracy: 0.5636 - val_loss: 4.2959\n",
      "Epoch 13/150\n",
      "88/88 - 0s - 1ms/step - accuracy: 0.5137 - loss: 5.4519 - val_accuracy: 0.5054 - val_loss: 1.2236\n",
      "Epoch 14/150\n",
      "88/88 - 0s - 1ms/step - accuracy: 0.5162 - loss: 3.6750 - val_accuracy: 0.5017 - val_loss: 8.2431\n",
      "Epoch 15/150\n",
      "88/88 - 0s - 1ms/step - accuracy: 0.5141 - loss: 5.1264 - val_accuracy: 0.5109 - val_loss: 4.2637\n",
      "Epoch 16/150\n",
      "88/88 - 0s - 1ms/step - accuracy: 0.5209 - loss: 3.9050 - val_accuracy: 0.5211 - val_loss: 2.7790\n",
      "Epoch 17/150\n",
      "88/88 - 0s - 1ms/step - accuracy: 0.5193 - loss: 2.6947 - val_accuracy: 0.5013 - val_loss: 3.8546\n",
      "Epoch 18/150\n",
      "88/88 - 0s - 1ms/step - accuracy: 0.5274 - loss: 1.9466 - val_accuracy: 0.4634 - val_loss: 1.2583\n",
      "Epoch 19/150\n",
      "88/88 - 0s - 1ms/step - accuracy: 0.5272 - loss: 1.9439 - val_accuracy: 0.5640 - val_loss: 2.5798\n",
      "Epoch 20/150\n",
      "88/88 - 0s - 1ms/step - accuracy: 0.5168 - loss: 2.5353 - val_accuracy: 0.5331 - val_loss: 1.3936\n",
      "Epoch 21/150\n",
      "88/88 - 0s - 987us/step - accuracy: 0.5255 - loss: 2.9557 - val_accuracy: 0.5301 - val_loss: 6.0206\n",
      "Epoch 22/150\n",
      "88/88 - 0s - 1ms/step - accuracy: 0.5354 - loss: 1.6326 - val_accuracy: 0.4990 - val_loss: 1.3356\n",
      "Epoch 23/150\n",
      "88/88 - 0s - 1ms/step - accuracy: 0.5228 - loss: 1.9442 - val_accuracy: 0.5674 - val_loss: 1.3910\n",
      "Epoch 24/150\n",
      "88/88 - 0s - 1ms/step - accuracy: 0.5326 - loss: 1.1300 - val_accuracy: 0.5676 - val_loss: 1.7523\n",
      "Epoch 25/150\n",
      "88/88 - 0s - 1ms/step - accuracy: 0.5266 - loss: 1.3905 - val_accuracy: 0.4973 - val_loss: 2.3462\n",
      "Epoch 26/150\n",
      "88/88 - 0s - 1ms/step - accuracy: 0.5171 - loss: 2.0194 - val_accuracy: 0.5025 - val_loss: 1.6955\n",
      "Epoch 27/150\n",
      "88/88 - 0s - 991us/step - accuracy: 0.5198 - loss: 1.3158 - val_accuracy: 0.4674 - val_loss: 1.6099\n",
      "Epoch 28/150\n",
      "88/88 - 0s - 1ms/step - accuracy: 0.5237 - loss: 0.8968 - val_accuracy: 0.4437 - val_loss: 1.1882\n",
      "Epoch 29/150\n",
      "88/88 - 0s - 1ms/step - accuracy: 0.5286 - loss: 0.8831 - val_accuracy: 0.5136 - val_loss: 0.9053\n",
      "Epoch 30/150\n",
      "88/88 - 0s - 1ms/step - accuracy: 0.5228 - loss: 0.8507 - val_accuracy: 0.5479 - val_loss: 0.7317\n",
      "Epoch 31/150\n",
      "88/88 - 0s - 1ms/step - accuracy: 0.5504 - loss: 0.7177 - val_accuracy: 0.4981 - val_loss: 0.7593\n",
      "Epoch 32/150\n",
      "88/88 - 0s - 1ms/step - accuracy: 0.5505 - loss: 0.7899 - val_accuracy: 0.5410 - val_loss: 1.9024\n",
      "Epoch 33/150\n",
      "88/88 - 0s - 1ms/step - accuracy: 0.5205 - loss: 1.4689 - val_accuracy: 0.4477 - val_loss: 1.6283\n",
      "Epoch 34/150\n",
      "88/88 - 0s - 1ms/step - accuracy: 0.5146 - loss: 2.2067 - val_accuracy: 0.5004 - val_loss: 1.9743\n",
      "Epoch 35/150\n",
      "88/88 - 0s - 1ms/step - accuracy: 0.5305 - loss: 0.9197 - val_accuracy: 0.5092 - val_loss: 0.8173\n",
      "Epoch 36/150\n",
      "88/88 - 0s - 1ms/step - accuracy: 0.5311 - loss: 0.7938 - val_accuracy: 0.5689 - val_loss: 0.7588\n"
     ]
    },
    {
     "data": {
      "text/plain": [
       "<keras.src.callbacks.history.History at 0x37c121910>"
      ]
     },
     "execution_count": 1376,
     "metadata": {},
     "output_type": "execute_result"
    }
   ],
   "source": [
    "# from keras.callbacks import EarlyStopping\n",
    "\n",
    "early_stopping = keras.callbacks.EarlyStopping(monitor='loss', patience=5)\n",
    "\n",
    "model_fit = model.fit(X_train, y_train, epochs=150, validation_data=(X_test, y_test), batch_size=128, verbose=2, callbacks=[early_stopping])\n",
    "model_fit"
   ]
  },
  {
   "cell_type": "code",
   "execution_count": 1377,
   "metadata": {},
   "outputs": [
    {
     "data": {
      "text/plain": [
       "-0.22848645"
      ]
     },
     "execution_count": 1377,
     "metadata": {},
     "output_type": "execute_result"
    }
   ],
   "source": [
    "model_weigths = model.get_weights()\n",
    "model_weigths[1][0]"
   ]
  },
  {
   "cell_type": "code",
   "execution_count": 1378,
   "metadata": {},
   "outputs": [
    {
     "data": {
      "image/png": "[encoded data removed]",
      "text/plain": [
       "<Figure size 640x480 with 1 Axes>"
      ]
     },
     "metadata": {},
     "output_type": "display_data"
    }
   ],
   "source": [
    "model_history = model_fit.history\n",
    "model_epoch = model_fit.epoch\n",
    "\n",
    "plt.plot(model_epoch, model_history['loss'], label='Train loss')\n",
    "plt.plot(model_epoch, model_history['val_loss'], label='Test loss')\n",
    "plt.ylabel('Model Loss')\n",
    "plt.xlabel('Epochs')\n",
    "plt.title('Loss values vs Epochs for DNN Model')\n",
    "plt.legend()\n",
    "plt.show()"
   ]
  },
  {
   "attachments": {},
   "cell_type": "markdown",
   "metadata": {},
   "source": [
    "The model shows that only 35 epochs were needed, after that there would be no more imorovement. Both the loss and the val-loss converge around 30 epochs and with that we deduce that no overfitting is occuring. The training and testing scores below indicate the same sentiment."
   ]
  },
  {
   "cell_type": "code",
   "execution_count": 1379,
   "metadata": {},
   "outputs": [
    {
     "name": "stdout",
     "output_type": "stream",
     "text": [
      "\u001b[1m349/349\u001b[0m \u001b[32m━━━━━━━━━━━━━━━━━━━━\u001b[0m\u001b[37m\u001b[0m \u001b[1m0s\u001b[0m 393us/step - accuracy: 0.5769 - loss: 0.7638\n",
      "\u001b[1m150/150\u001b[0m \u001b[32m━━━━━━━━━━━━━━━━━━━━\u001b[0m\u001b[37m\u001b[0m \u001b[1m0s\u001b[0m 365us/step - accuracy: 0.5582 - loss: 0.7742\n",
      "Train accuracy score:\n",
      "0.5733895301818848\n",
      "\n",
      "Test accuracy score:\n",
      "0.5688572525978088\n"
     ]
    }
   ],
   "source": [
    "train_score = model.evaluate(X_train, y_train)[1]\n",
    "test_score = model.evaluate(X_test, y_test)[1]\n",
    "\n",
    "\n",
    "print(f'Train accuracy score:\\n{train_score}\\n\\nTest accuracy score:\\n{test_score}')"
   ]
  },
  {
   "cell_type": "code",
   "execution_count": 1380,
   "metadata": {},
   "outputs": [
    {
     "name": "stdout",
     "output_type": "stream",
     "text": [
      "\u001b[1m150/150\u001b[0m \u001b[32m━━━━━━━━━━━━━━━━━━━━\u001b[0m\u001b[37m\u001b[0m \u001b[1m0s\u001b[0m 740us/step\n"
     ]
    },
    {
     "data": {
      "text/html": [
       "<div>\n",
       "<style scoped>\n",
       "    .dataframe tbody tr th:only-of-type {\n",
       "        vertical-align: middle;\n",
       "    }\n",
       "\n",
       "    .dataframe tbody tr th {\n",
       "        vertical-align: top;\n",
       "    }\n",
       "\n",
       "    .dataframe thead th {\n",
       "        text-align: right;\n",
       "    }\n",
       "</style>\n",
       "<table border=\"1\" class=\"dataframe\">\n",
       "  <thead>\n",
       "    <tr style=\"text-align: right;\">\n",
       "      <th></th>\n",
       "      <th>true_labels</th>\n",
       "      <th>predictions</th>\n",
       "    </tr>\n",
       "  </thead>\n",
       "  <tbody>\n",
       "    <tr>\n",
       "      <th>0</th>\n",
       "      <td>0</td>\n",
       "      <td>0.606603</td>\n",
       "    </tr>\n",
       "    <tr>\n",
       "      <th>1</th>\n",
       "      <td>0</td>\n",
       "      <td>0.592415</td>\n",
       "    </tr>\n",
       "    <tr>\n",
       "      <th>2</th>\n",
       "      <td>0</td>\n",
       "      <td>0.456521</td>\n",
       "    </tr>\n",
       "    <tr>\n",
       "      <th>3</th>\n",
       "      <td>0</td>\n",
       "      <td>0.587216</td>\n",
       "    </tr>\n",
       "    <tr>\n",
       "      <th>4</th>\n",
       "      <td>0</td>\n",
       "      <td>0.496500</td>\n",
       "    </tr>\n",
       "    <tr>\n",
       "      <th>5</th>\n",
       "      <td>0</td>\n",
       "      <td>0.627963</td>\n",
       "    </tr>\n",
       "    <tr>\n",
       "      <th>6</th>\n",
       "      <td>1</td>\n",
       "      <td>0.616632</td>\n",
       "    </tr>\n",
       "    <tr>\n",
       "      <th>7</th>\n",
       "      <td>0</td>\n",
       "      <td>0.591861</td>\n",
       "    </tr>\n",
       "    <tr>\n",
       "      <th>8</th>\n",
       "      <td>1</td>\n",
       "      <td>0.621260</td>\n",
       "    </tr>\n",
       "    <tr>\n",
       "      <th>9</th>\n",
       "      <td>0</td>\n",
       "      <td>0.600235</td>\n",
       "    </tr>\n",
       "  </tbody>\n",
       "</table>\n",
       "</div>"
      ],
      "text/plain": [
       "   true_labels  predictions\n",
       "0            0     0.606603\n",
       "1            0     0.592415\n",
       "2            0     0.456521\n",
       "3            0     0.587216\n",
       "4            0     0.496500\n",
       "5            0     0.627963\n",
       "6            1     0.616632\n",
       "7            0     0.591861\n",
       "8            1     0.621260\n",
       "9            0     0.600235"
      ]
     },
     "execution_count": 1380,
     "metadata": {},
     "output_type": "execute_result"
    }
   ],
   "source": [
    "import numpy as np\n",
    "preds = model.predict(X_test)\n",
    "# print(preds)\n",
    "\n",
    "preds = preds.reshape((4778,))\n",
    "\n",
    "prediction_df = pd.DataFrame({\n",
    "    'true_labels': y_test,\n",
    "    'predictions': preds\n",
    "})\n",
    "\n",
    "prediction_df.head(10)"
   ]
  },
  {
   "attachments": {},
   "cell_type": "markdown",
   "metadata": {},
   "source": [
    "## Hyper-parameter tuning\n",
    "- with this step taking a considerable amount of time I commented it out"
   ]
  },
  {
   "cell_type": "code",
   "execution_count": 1381,
   "metadata": {},
   "outputs": [],
   "source": [
    "from sklearn.model_selection import RandomizedSearchCV\n",
    "from scikeras.wrappers import KerasClassifier\n",
    "from sklearn.model_selection import cross_val_score\n",
    "# from scikeras.wrappers import KerasClassifier\n",
    "# keras.wrappers.scikit_learn.KerasClassifier\n",
    "# import KerasClassifier\n",
    "\n",
    "# def create_model(neurons, learning_rate, nl):\n",
    "#     model = keras.Sequential()\n",
    "#     model.add(keras.layers.Input((20,)))\n",
    "#     for i in nl:\n",
    "#         model.add(keras.layers.Dense(neurons, activation='relu'))\n",
    "#     model.add(keras.layers.Dense(1, activation='sigmoid'))\n",
    "#     model.compile(optimizer=Adam(learning_rate=learning_rate), loss='binary_crossentropy', metrics=['accuracy'])\n",
    "#     return model\n",
    "\n",
    "# model = KerasClassifier(build_fn=create_model, neurons=32, learning_rate=.001, epochs=150, nl=1)\n",
    "\n",
    "# params = {\n",
    "#     'epochs': [150],\n",
    "#     'neurons': [64,128],\n",
    "#     'learning_rate': [.001, .01],\n",
    "#     'nl': [1,2,3]\n",
    "# }\n",
    "\n",
    "# model_grid = RandomizedSearchCV(estimator=model, param_distributions=params, cv=3, verbose=2, random_state=RANDOM_STATE, n_jobs=-1, scoring='accuracy')\n",
    "\n",
    "# model_results = model_grid.fit(X_train[:10], y_train[:10])\n",
    "# print(f'Best score: {model_results.best_score_}\\n\\nBest params: {model_results.best_params_}')\n"
   ]
  },
  {
   "attachments": {},
   "cell_type": "markdown",
   "metadata": {},
   "source": [
    "# Save model"
   ]
  },
  {
   "cell_type": "code",
   "execution_count": 1382,
   "metadata": {},
   "outputs": [],
   "source": [
    "import pickle\n",
    "\n",
    "with open('../final_models/keras_model', 'wb') as model:\n",
    "    pickle.dump(model_fit, model)"
   ]
  }
 ],
 "metadata": {
  "kernelspec": {
   "display_name": "Python 3",
   "language": "python",
   "name": "python3"
  },
  "language_info": {
   "codemirror_mode": {
    "name": "ipython",
    "version": 3
   },
   "file_extension": ".py",
   "mimetype": "text/x-python",
   "name": "python",
   "nbconvert_exporter": "python",
   "pygments_lexer": "ipython3",
   "version": "3.11.2"
  },
  "orig_nbformat": 4
 },
 "nbformat": 4,
 "nbformat_minor": 2
}
